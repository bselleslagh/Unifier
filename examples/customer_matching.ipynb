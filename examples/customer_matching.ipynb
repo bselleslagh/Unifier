{
 "cells": [
  {
   "attachments": {},
   "cell_type": "markdown",
   "metadata": {},
   "source": [
    "# Customer Matching Example\n",
    "## Matching Names\n",
    "This notebook demonstrates how we use the Levenstein distance to match customer names: [Levenstein distance](https://en.wikipedia.org/wiki/Levenshtein_distance) to match. The Levenstein distance is a measure of the similarity between two strings. The distance is the number of deletions, insertions, or substitutions required to transform one string into the other. The distance is 0 if the two strings are identical."
   ]
  },
  {
   "cell_type": "code",
   "execution_count": 85,
   "metadata": {},
   "outputs": [],
   "source": [
    "from fuzzywuzzy import fuzz\n",
    "from fuzzywuzzy import process\n",
    "import pandas as pd\n",
    "import numpy as np\n",
    "\n",
    "# Import tqdm for progress bar\n",
    "from tqdm import tqdm"
   ]
  },
  {
   "cell_type": "code",
   "execution_count": 86,
   "metadata": {},
   "outputs": [
    {
     "name": "stderr",
     "output_type": "stream",
     "text": [
      "/tmp/ipykernel_607/1367721769.py:29: FutureWarning: The frame.append method is deprecated and will be removed from pandas in a future version. Use pandas.concat instead.\n",
      "  customers = customers.append([matchin_record_1, matchin_record_2], ignore_index=True)\n"
     ]
    },
    {
     "data": {
      "text/html": [
       "<div>\n",
       "<style scoped>\n",
       "    .dataframe tbody tr th:only-of-type {\n",
       "        vertical-align: middle;\n",
       "    }\n",
       "\n",
       "    .dataframe tbody tr th {\n",
       "        vertical-align: top;\n",
       "    }\n",
       "\n",
       "    .dataframe thead th {\n",
       "        text-align: right;\n",
       "    }\n",
       "</style>\n",
       "<table border=\"1\" class=\"dataframe\">\n",
       "  <thead>\n",
       "    <tr style=\"text-align: right;\">\n",
       "      <th></th>\n",
       "      <th>id</th>\n",
       "      <th>source</th>\n",
       "      <th>firstname</th>\n",
       "      <th>lastname</th>\n",
       "      <th>street</th>\n",
       "      <th>housenumber</th>\n",
       "      <th>box</th>\n",
       "      <th>postalcode</th>\n",
       "      <th>city</th>\n",
       "      <th>country</th>\n",
       "      <th>birthdate</th>\n",
       "      <th>email</th>\n",
       "    </tr>\n",
       "  </thead>\n",
       "  <tbody>\n",
       "    <tr>\n",
       "      <th>0</th>\n",
       "      <td>5ec33e41-d6db-4f86-8c1d-4ad694f7b3b8</td>\n",
       "      <td>twitter</td>\n",
       "      <td>Sylvie</td>\n",
       "      <td>De Maeyer</td>\n",
       "      <td>Vilstraat</td>\n",
       "      <td>60</td>\n",
       "      <td></td>\n",
       "      <td>3511</td>\n",
       "      <td>Hasselt</td>\n",
       "      <td>Belgium</td>\n",
       "      <td>1970-09-10</td>\n",
       "      <td>janssensfrancois@example.com</td>\n",
       "    </tr>\n",
       "    <tr>\n",
       "      <th>1</th>\n",
       "      <td>05549698-6394-43b3-9633-0ef6fc46c1e5</td>\n",
       "      <td>facebook</td>\n",
       "      <td>Danny</td>\n",
       "      <td>Brouwers</td>\n",
       "      <td>Vossekotstraat</td>\n",
       "      <td>10</td>\n",
       "      <td></td>\n",
       "      <td>9100</td>\n",
       "      <td>Sint-Niklaas</td>\n",
       "      <td>Belgium</td>\n",
       "      <td>1953-01-05</td>\n",
       "      <td>larsfrancois@example.com</td>\n",
       "    </tr>\n",
       "    <tr>\n",
       "      <th>2</th>\n",
       "      <td>f1cbe4b0-9bcf-46ec-8e3c-92632f9925e4</td>\n",
       "      <td>twitter</td>\n",
       "      <td>Johan</td>\n",
       "      <td>Leemans</td>\n",
       "      <td>Alfons De Cockstraat</td>\n",
       "      <td>12</td>\n",
       "      <td>0209</td>\n",
       "      <td>9310</td>\n",
       "      <td>Aalst</td>\n",
       "      <td>Belgium</td>\n",
       "      <td>1946-08-05</td>\n",
       "      <td>jonasde-winter@example.net</td>\n",
       "    </tr>\n",
       "    <tr>\n",
       "      <th>3</th>\n",
       "      <td>e5413bcb-2a9f-4c03-9261-cfc6349d9999</td>\n",
       "      <td>facebook</td>\n",
       "      <td>Jan</td>\n",
       "      <td>Janssens</td>\n",
       "      <td>Kerkstraat</td>\n",
       "      <td>1</td>\n",
       "      <td></td>\n",
       "      <td>1000</td>\n",
       "      <td>Brussel</td>\n",
       "      <td>Belgium</td>\n",
       "      <td>1980-01-01</td>\n",
       "      <td>test_record@lol.com</td>\n",
       "    </tr>\n",
       "    <tr>\n",
       "      <th>4</th>\n",
       "      <td>e5413bcb-2a9f-4c03-9261-cfc6349d9999</td>\n",
       "      <td>facebook</td>\n",
       "      <td>Jan</td>\n",
       "      <td>Janssens</td>\n",
       "      <td>Kerkstraat</td>\n",
       "      <td>1</td>\n",
       "      <td></td>\n",
       "      <td>2000</td>\n",
       "      <td>Antwerpen</td>\n",
       "      <td>Belgium</td>\n",
       "      <td>1980-01-01</td>\n",
       "      <td>test_record@lol.com</td>\n",
       "    </tr>\n",
       "  </tbody>\n",
       "</table>\n",
       "</div>"
      ],
      "text/plain": [
       "                                     id    source firstname   lastname  \\\n",
       "0  5ec33e41-d6db-4f86-8c1d-4ad694f7b3b8   twitter    Sylvie  De Maeyer   \n",
       "1  05549698-6394-43b3-9633-0ef6fc46c1e5  facebook     Danny   Brouwers   \n",
       "2  f1cbe4b0-9bcf-46ec-8e3c-92632f9925e4   twitter     Johan    Leemans   \n",
       "3  e5413bcb-2a9f-4c03-9261-cfc6349d9999  facebook       Jan   Janssens   \n",
       "4  e5413bcb-2a9f-4c03-9261-cfc6349d9999  facebook       Jan   Janssens   \n",
       "\n",
       "                 street housenumber   box postalcode          city  country  \\\n",
       "0             Vilstraat          60             3511       Hasselt  Belgium   \n",
       "1        Vossekotstraat          10             9100  Sint-Niklaas  Belgium   \n",
       "2  Alfons De Cockstraat          12  0209       9310         Aalst  Belgium   \n",
       "3            Kerkstraat           1             1000       Brussel  Belgium   \n",
       "4            Kerkstraat           1             2000     Antwerpen  Belgium   \n",
       "\n",
       "    birthdate                         email  \n",
       "0  1970-09-10  janssensfrancois@example.com  \n",
       "1  1953-01-05      larsfrancois@example.com  \n",
       "2  1946-08-05    jonasde-winter@example.net  \n",
       "3  1980-01-01           test_record@lol.com  \n",
       "4  1980-01-01           test_record@lol.com  "
      ]
     },
     "execution_count": 86,
     "metadata": {},
     "output_type": "execute_result"
    }
   ],
   "source": [
    "customers = pd.read_parquet('../data/customers.parquet')\n",
    "# Add a row\n",
    "matchin_record_1 = {\"id\": \"e5413bcb-2a9f-4c03-9261-cfc6349d9999\",\n",
    "                  \"source\": \"facebook\",\n",
    "                  \"firstname\": \"Jan\",\n",
    "                  \"lastname\": \"Janssens\",\n",
    "                  \"street\": \"Kerkstraat\",\n",
    "                  \"housenumber\": 1,\n",
    "                  \"box\": \"\",\n",
    "                  \"postalcode\": \"1000\",\n",
    "                  \"city\": \"Brussel\",\n",
    "                  \"country\": \"Belgium\",\n",
    "                  \"birthdate\": \"1980-01-01\",\n",
    "                  \"email\": \"test_record@lol.com\"}\n",
    "\n",
    "matchin_record_2 = {\"id\": \"e5413bcb-2a9f-4c03-9261-cfc6349d9999\",\n",
    "                  \"source\": \"facebook\",\n",
    "                  \"firstname\": \"Jan\",\n",
    "                  \"lastname\": \"Janssens\",\n",
    "                  \"street\": \"Kerkstraat\",\n",
    "                  \"housenumber\": 1,\n",
    "                  \"box\": \"\",\n",
    "                  \"postalcode\": \"2000\",\n",
    "                  \"city\": \"Antwerpen\",\n",
    "                  \"country\": \"Belgium\",\n",
    "                  \"birthdate\": \"1980-01-01\",\n",
    "                  \"email\": \"test_record@lol.com\"}\n",
    "\n",
    "customers = customers.append([matchin_record_1, matchin_record_2], ignore_index=True)\n",
    "customers.head(5)"
   ]
  },
  {
   "cell_type": "code",
   "execution_count": 87,
   "metadata": {},
   "outputs": [
    {
     "name": "stdout",
     "output_type": "stream",
     "text": [
      "<class 'pandas.core.frame.DataFrame'>\n",
      "RangeIndex: 5 entries, 0 to 4\n",
      "Data columns (total 12 columns):\n",
      " #   Column       Non-Null Count  Dtype \n",
      "---  ------       --------------  ----- \n",
      " 0   id           5 non-null      object\n",
      " 1   source       5 non-null      object\n",
      " 2   firstname    5 non-null      object\n",
      " 3   lastname     5 non-null      object\n",
      " 4   street       5 non-null      object\n",
      " 5   housenumber  5 non-null      object\n",
      " 6   box          5 non-null      object\n",
      " 7   postalcode   5 non-null      object\n",
      " 8   city         5 non-null      object\n",
      " 9   country      5 non-null      object\n",
      " 10  birthdate    5 non-null      object\n",
      " 11  email        5 non-null      object\n",
      "dtypes: object(12)\n",
      "memory usage: 608.0+ bytes\n"
     ]
    }
   ],
   "source": [
    "customers.info()"
   ]
  },
  {
   "attachments": {},
   "cell_type": "markdown",
   "metadata": {},
   "source": [
    "## Matching Customer Names\n",
    "Now we will use the fuzzywuzzy library to match customer names. The fuzzywuzzy library is a python library that uses the Levenstein distance to match strings. "
   ]
  },
  {
   "cell_type": "code",
   "execution_count": 88,
   "metadata": {},
   "outputs": [],
   "source": [
    "# Here, fuzz.token_sort_ratio is one of the string matching algorithms provided by the fuzzywuzzy library .\n",
    "# It calculates the similarity score between two strings based on the similarity of their tokens (words).\n",
    "# The score is a number between 0 and 100, where 100 is a perfect match.\n",
    "\n",
    "def similarity_score(record1, record2):\n",
    "    return fuzz.token_sort_ratio(record1, record2)"
   ]
  },
  {
   "cell_type": "code",
   "execution_count": 89,
   "metadata": {},
   "outputs": [
    {
     "data": {
      "text/plain": [
       "0            Sylvie De Maeyer Vilstraat 60 3511\n",
       "1         Danny Brouwers Vossekotstraat 10 9100\n",
       "2    Johan Leemans Alfons De Cockstraat 12 9310\n",
       "3                Jan Janssens Kerkstraat 1 1000\n",
       "4                Jan Janssens Kerkstraat 1 2000\n",
       "Name: matching_string, dtype: object"
      ]
     },
     "execution_count": 89,
     "metadata": {},
     "output_type": "execute_result"
    }
   ],
   "source": [
    "# Now let's create a matching string that concatenates the first name, last name, and address of each customer.\n",
    "\n",
    "customers['matching_string'] = customers['firstname'] + ' ' + customers['lastname'] + ' ' + customers['street'] + ' ' + customers['housenumber'].astype('str') +  ' ' +customers['postalcode'].astype('str')\n",
    "customers['matching_string']"
   ]
  },
  {
   "cell_type": "code",
   "execution_count": 90,
   "metadata": {},
   "outputs": [
    {
     "name": "stderr",
     "output_type": "stream",
     "text": [
      "5it [00:00, 1069.43it/s]\n"
     ]
    }
   ],
   "source": [
    "matches_df = pd.DataFrame(columns=['record_id', 'record', 'match_id', 'match', 'score'])\n",
    "\n",
    "for index, record in tqdm(customers.iterrows()):\n",
    "    # Compare the matching string of the current record with the matching strings of all other records\n",
    "    matches = process.extract(record['matching_string'], customers.drop(index)['matching_string'].to_list(), scorer=similarity_score)\n",
    "    for match in matches:\n",
    "        # Only add matches with a score of 90 or higher\n",
    "        if match[1] >= 90:\n",
    "            match_index = customers[customers['matching_string'] == match[0]].index[0]\n",
    "            matches_df = pd.concat([matches_df, pd.DataFrame({'record_id': index, 'record': record['matching_string'], 'match_id': match_index, 'match': match[0], 'score': match[1]}, index=[0])], ignore_index=True)\n"
   ]
  },
  {
   "cell_type": "code",
   "execution_count": 91,
   "metadata": {},
   "outputs": [
    {
     "data": {
      "text/html": [
       "<div>\n",
       "<style scoped>\n",
       "    .dataframe tbody tr th:only-of-type {\n",
       "        vertical-align: middle;\n",
       "    }\n",
       "\n",
       "    .dataframe tbody tr th {\n",
       "        vertical-align: top;\n",
       "    }\n",
       "\n",
       "    .dataframe thead th {\n",
       "        text-align: right;\n",
       "    }\n",
       "</style>\n",
       "<table border=\"1\" class=\"dataframe\">\n",
       "  <thead>\n",
       "    <tr style=\"text-align: right;\">\n",
       "      <th></th>\n",
       "      <th>record_id</th>\n",
       "      <th>record</th>\n",
       "      <th>match_id</th>\n",
       "      <th>match</th>\n",
       "      <th>score</th>\n",
       "    </tr>\n",
       "  </thead>\n",
       "  <tbody>\n",
       "    <tr>\n",
       "      <th>0</th>\n",
       "      <td>3</td>\n",
       "      <td>Jan Janssens Kerkstraat 1 1000</td>\n",
       "      <td>4</td>\n",
       "      <td>Jan Janssens Kerkstraat 1 2000</td>\n",
       "      <td>97</td>\n",
       "    </tr>\n",
       "    <tr>\n",
       "      <th>1</th>\n",
       "      <td>4</td>\n",
       "      <td>Jan Janssens Kerkstraat 1 2000</td>\n",
       "      <td>3</td>\n",
       "      <td>Jan Janssens Kerkstraat 1 1000</td>\n",
       "      <td>97</td>\n",
       "    </tr>\n",
       "  </tbody>\n",
       "</table>\n",
       "</div>"
      ],
      "text/plain": [
       "  record_id                          record match_id  \\\n",
       "0         3  Jan Janssens Kerkstraat 1 1000        4   \n",
       "1         4  Jan Janssens Kerkstraat 1 2000        3   \n",
       "\n",
       "                            match score  \n",
       "0  Jan Janssens Kerkstraat 1 2000    97  \n",
       "1  Jan Janssens Kerkstraat 1 1000    97  "
      ]
     },
     "execution_count": 91,
     "metadata": {},
     "output_type": "execute_result"
    }
   ],
   "source": [
    "matches_df"
   ]
  }
 ],
 "metadata": {
  "kernelspec": {
   "display_name": "Python 3",
   "language": "python",
   "name": "python3"
  },
  "language_info": {
   "codemirror_mode": {
    "name": "ipython",
    "version": 3
   },
   "file_extension": ".py",
   "mimetype": "text/x-python",
   "name": "python",
   "nbconvert_exporter": "python",
   "pygments_lexer": "ipython3",
   "version": "3.11.1"
  },
  "orig_nbformat": 4,
  "vscode": {
   "interpreter": {
    "hash": "949777d72b0d2535278d3dc13498b2535136f6dfe0678499012e853ee9abcab1"
   }
  }
 },
 "nbformat": 4,
 "nbformat_minor": 2
}
